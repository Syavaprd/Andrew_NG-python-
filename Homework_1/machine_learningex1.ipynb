{
 "cells": [
  {
   "cell_type": "code",
   "execution_count": 4,
   "metadata": {},
   "outputs": [],
   "source": [
    "import matplotlib.pyplot as plt\n",
    "import numpy as np"
   ]
  },
  {
   "cell_type": "code",
   "execution_count": 5,
   "metadata": {},
   "outputs": [],
   "source": [
    "#Warmup_exercise\n",
    "def warmup(sz):\n",
    "    return np.identity(sz) "
   ]
  },
  {
   "cell_type": "code",
   "execution_count": 6,
   "metadata": {},
   "outputs": [
    {
     "data": {
      "text/plain": [
       "array([[1., 0., 0., 0., 0.],\n",
       "       [0., 1., 0., 0., 0.],\n",
       "       [0., 0., 1., 0., 0.],\n",
       "       [0., 0., 0., 1., 0.],\n",
       "       [0., 0., 0., 0., 1.]])"
      ]
     },
     "execution_count": 6,
     "metadata": {},
     "output_type": "execute_result"
    }
   ],
   "source": [
    "warmup(5)"
   ]
  },
  {
   "cell_type": "code",
   "execution_count": 8,
   "metadata": {},
   "outputs": [],
   "source": [
    "#Plot data exercise\n",
    "data = np.loadtxt('ex1data1.txt', delimiter=',')"
   ]
  },
  {
   "cell_type": "code",
   "execution_count": 11,
   "metadata": {},
   "outputs": [
    {
     "data": {
      "text/plain": [
       "array([[ 6.1101, 17.592 ],\n",
       "       [ 5.5277,  9.1302],\n",
       "       [ 8.5186, 13.662 ],\n",
       "       [ 7.0032, 11.854 ],\n",
       "       [ 5.8598,  6.8233],\n",
       "       [ 8.3829, 11.886 ],\n",
       "       [ 7.4764,  4.3483]])"
      ]
     },
     "execution_count": 11,
     "metadata": {},
     "output_type": "execute_result"
    }
   ],
   "source": [
    "data[:7]"
   ]
  },
  {
   "cell_type": "code",
   "execution_count": 14,
   "metadata": {},
   "outputs": [],
   "source": [
    "x = [tmp[0] for tmp in data]\n",
    "y = [tmp[1] for tmp in data]"
   ]
  },
  {
   "cell_type": "code",
   "execution_count": 12,
   "metadata": {},
   "outputs": [],
   "source": [
    "def plotData(x, y):\n",
    "    plt.xlabel(\"X\")\n",
    "    plt.ylabel(\"Y\")\n",
    "    plt.scatter(x, y)\n",
    "    plt.show()"
   ]
  },
  {
   "cell_type": "code",
   "execution_count": 13,
   "metadata": {},
   "outputs": [
    {
     "data": {
      "image/png": "[encoded data removed]",
      "text/plain": [
       "<Figure size 432x288 with 1 Axes>"
      ]
     },
     "metadata": {
      "needs_background": "light"
     },
     "output_type": "display_data"
    }
   ],
   "source": [
    "plotData(x, y)"
   ]
  },
  {
   "cell_type": "code",
   "execution_count": 15,
   "metadata": {},
   "outputs": [],
   "source": [
    "# Compute Cost Function exercise\n",
    "def computeCost(x, y, theta):\n",
    "    m = len(y)\n",
    "    Sum = 0.\n",
    "    for i in range(0, m):\n",
    "        Sum += (theta[0] + theta[1] * x[i] - y[i]) ** 2\n",
    "    Sum /= (2 * m)\n",
    "    return Sum"
   ]
  },
  {
   "cell_type": "code",
   "execution_count": 16,
   "metadata": {},
   "outputs": [],
   "source": [
    "J = computeCost(x, y, (0, 1))"
   ]
  },
  {
   "cell_type": "code",
   "execution_count": 17,
   "metadata": {},
   "outputs": [
    {
     "data": {
      "text/plain": [
       "7.445855542929897"
      ]
     },
     "execution_count": 17,
     "metadata": {},
     "output_type": "execute_result"
    }
   ],
   "source": [
    "J"
   ]
  },
  {
   "cell_type": "code",
   "execution_count": 27,
   "metadata": {},
   "outputs": [],
   "source": [
    "# GradientDescent exercise\n",
    "def GradientDescent(x, y, theta, alpha, num_iters):\n",
    "    m = len(y)\n",
    "    history = np.zeros((num_iters + 1, 1))\n",
    "    history[0] = computeCost(x, y, theta)\n",
    "    for i in range(1,num_iters + 1):\n",
    "        tmp_0 = theta[0]\n",
    "        Sum = 0.\n",
    "        for j in range(m):\n",
    "            Sum += (theta[0] + theta[1] * x[j] - y[j])\n",
    "        Sum /= (m)\n",
    "        Sum *= alpha\n",
    "        theta[0] -= Sum\n",
    "        Sum = 0.\n",
    "        for j in range(m):\n",
    "            Sum += (tmp_0 + theta[1] * x[j] - y[j]) * x[j]\n",
    "        Sum /= (m)\n",
    "        Sum *= alpha\n",
    "        theta[1] -= Sum\n",
    "        history[i] = computeCost(x, y, theta)\n",
    "    return (theta, history)"
   ]
  },
  {
   "cell_type": "code",
   "execution_count": 28,
   "metadata": {},
   "outputs": [],
   "source": [
    "check = GradientDescent(x, y, [0, 1], 0.01, 100)"
   ]
  },
  {
   "cell_type": "code",
   "execution_count": 29,
   "metadata": {},
   "outputs": [
    {
     "data": {
      "image/png": "[encoded data removed]",
      "text/plain": [
       "<Figure size 432x288 with 1 Axes>"
      ]
     },
     "metadata": {
      "needs_background": "light"
     },
     "output_type": "display_data"
    }
   ],
   "source": [
    "plotData(range(101), check[1])"
   ]
  },
  {
   "cell_type": "code",
   "execution_count": 30,
   "metadata": {},
   "outputs": [
    {
     "name": "stdout",
     "output_type": "stream",
     "text": [
      "[-0.6595947031836652, 0.8679236405739373]\n"
     ]
    },
    {
     "data": {
      "text/plain": [
       "5.430418156119092"
      ]
     },
     "execution_count": 30,
     "metadata": {},
     "output_type": "execute_result"
    }
   ],
   "source": [
    "#besttheta\n",
    "print(check[0])\n",
    "computeCost(x, y, check[0])\n"
   ]
  },
  {
   "cell_type": "code",
   "execution_count": null,
   "metadata": {},
   "outputs": [],
   "source": []
  }
 ],
 "metadata": {
  "kernelspec": {
   "display_name": "Python 3",
   "language": "python",
   "name": "python3"
  },
  "language_info": {
   "codemirror_mode": {
    "name": "ipython",
    "version": 3
   },
   "file_extension": ".py",
   "mimetype": "text/x-python",
   "name": "python",
   "nbconvert_exporter": "python",
   "pygments_lexer": "ipython3",
   "version": "3.6.10"
  }
 },
 "nbformat": 4,
 "nbformat_minor": 4
}
