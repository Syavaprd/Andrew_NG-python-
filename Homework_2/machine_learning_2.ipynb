{
 "cells": [
  {
   "cell_type": "code",
   "execution_count": 2,
   "metadata": {},
   "outputs": [],
   "source": [
    "import numpy as np\n",
    "import matplotlib.pyplot as plt"
   ]
  },
  {
   "cell_type": "code",
   "execution_count": 3,
   "metadata": {},
   "outputs": [],
   "source": [
    "data = np.loadtxt('ex2data1.txt', delimiter=',')"
   ]
  },
  {
   "cell_type": "code",
   "execution_count": 4,
   "metadata": {},
   "outputs": [
    {
     "data": {
      "text/plain": [
       "array([[34.62365962, 78.02469282,  0.        ],\n",
       "       [30.28671077, 43.89499752,  0.        ],\n",
       "       [35.84740877, 72.90219803,  0.        ],\n",
       "       [60.18259939, 86.3085521 ,  1.        ],\n",
       "       [79.03273605, 75.34437644,  1.        ],\n",
       "       [45.08327748, 56.31637178,  0.        ],\n",
       "       [61.10666454, 96.51142588,  1.        ]])"
      ]
     },
     "execution_count": 4,
     "metadata": {},
     "output_type": "execute_result"
    }
   ],
   "source": [
    "data[:7]"
   ]
  },
  {
   "cell_type": "code",
   "execution_count": 33,
   "metadata": {},
   "outputs": [],
   "source": [
    "#Plot data exercise\n",
    "def plotData(data):\n",
    "    fig, ax = plt.subplots()\n",
    "    tmp = data[:, 2] == 1\n",
    "    ax.scatter(data[tmp,0],data[tmp,1],c='blue', label = 'Blue')\n",
    "    tmp = data[:, 2] == 0\n",
    "    ax.scatter(data[tmp,0],data[tmp,1],marker = 'x', c='red', label = 'Red')\n",
    "    ax.legend()\n",
    "    plt.show()"
   ]
  },
  {
   "cell_type": "code",
   "execution_count": 34,
   "metadata": {},
   "outputs": [
    {
     "data": {
      "image/png": "[encoded data removed]",
      "text/plain": [
       "<Figure size 432x288 with 1 Axes>"
      ]
     },
     "metadata": {
      "needs_background": "light"
     },
     "output_type": "display_data"
    }
   ],
   "source": [
    "plotData(data)"
   ]
  },
  {
   "cell_type": "code",
   "execution_count": 49,
   "metadata": {},
   "outputs": [],
   "source": [
    "#Sigmoid function exercise\n",
    "def sigmoid(x):\n",
    "    return 1. / (1 + np.exp(-x))\"\""
   ]
  },
  {
   "cell_type": "code",
   "execution_count": 54,
   "metadata": {},
   "outputs": [
    {
     "data": {
      "text/plain": [
       "array([[      1, 1000000],\n",
       "       [      0,      -1]])"
      ]
     },
     "execution_count": 54,
     "metadata": {},
     "output_type": "execute_result"
    }
   ],
   "source": [
    "x = np.array([[1, 1000000], [0, -1]])\n",
    "x"
   ]
  },
  {
   "cell_type": "code",
   "execution_count": 55,
   "metadata": {},
   "outputs": [
    {
     "data": {
      "text/plain": [
       "array([[0.73105858, 1.        ],\n",
       "       [0.5       , 0.26894142]])"
      ]
     },
     "execution_count": 55,
     "metadata": {},
     "output_type": "execute_result"
    }
   ],
   "source": [
    "sigmoid(x)"
   ]
  },
  {
   "cell_type": "code",
   "execution_count": 115,
   "metadata": {},
   "outputs": [],
   "source": [
    "#Costfunction and gradient exercise\n",
    "def costFunction(theta, x, y):\n",
    "    J = 0.\n",
    "    grad = np.zeros(len(theta))\n",
    "    Sum = 0.\n",
    "    m = len(y)\n",
    "    tmp_mas = np.array(theta)\n",
    "    for i in range(m):\n",
    "        Sum += (-y[i] * np.log(sigmoid(np.dot(tmp_mas.T,x[i]))) - \\\n",
    "              (1. - y[i]) * np.log(1 - sigmoid(np.dot(tmp_mas.T,x[i]))))\n",
    "    Sum /= m\n",
    "    J = Sum\n",
    "    for j in range(len(theta)):\n",
    "        Sum = 0.\n",
    "        for i in range(m):\n",
    "            Sum += (sigmoid(np.dot(tmp_mas.T, x[i])) - y[i]) * x[i][j]\n",
    "        Sum /= m\n",
    "        grad[j] = Sum\n",
    "    return (J, grad)"
   ]
  },
  {
   "cell_type": "code",
   "execution_count": 117,
   "metadata": {},
   "outputs": [
    {
     "data": {
      "text/plain": [
       "(0.6931471805599458, array([-12.00921659, -11.26284221]))"
      ]
     },
     "execution_count": 117,
     "metadata": {},
     "output_type": "execute_result"
    }
   ],
   "source": [
    "#Works right on the example\n",
    "costFunction([0, 0], data[:, :2], data[:, 2])"
   ]
  },
  {
   "cell_type": "code",
   "execution_count": 145,
   "metadata": {},
   "outputs": [],
   "source": [
    "#Predict function exercise\n",
    "def predict(theta, x):\n",
    "    m = len(x)\n",
    "    x = np.array(x)\n",
    "    p = np.zeros(m)\n",
    "    for i in range(m):\n",
    "        if sigmoid(np.dot(theta.T, x[i])) >= 0.5:\n",
    "            p[i] = 1\n",
    "    return p"
   ]
  },
  {
   "cell_type": "code",
   "execution_count": 149,
   "metadata": {},
   "outputs": [
    {
     "data": {
      "text/plain": [
       "array([0., 0., 0., 0., 1.])"
      ]
     },
     "execution_count": 149,
     "metadata": {},
     "output_type": "execute_result"
    }
   ],
   "source": [
    "predict(np.array([0.01, -0.01]), data[:, :2])[:5]"
   ]
  },
  {
   "cell_type": "code",
   "execution_count": 152,
   "metadata": {},
   "outputs": [
    {
     "data": {
      "text/plain": [
       "array([[ 0.051267,  0.69956 ,  1.      ],\n",
       "       [-0.092742,  0.68494 ,  1.      ],\n",
       "       [-0.21371 ,  0.69225 ,  1.      ],\n",
       "       [-0.375   ,  0.50219 ,  1.      ],\n",
       "       [-0.51325 ,  0.46564 ,  1.      ],\n",
       "       [-0.52477 ,  0.2098  ,  1.      ],\n",
       "       [-0.39804 ,  0.034357,  1.      ]])"
      ]
     },
     "execution_count": 152,
     "metadata": {},
     "output_type": "execute_result"
    }
   ],
   "source": [
    "data = np.loadtxt('ex2data2.txt', delimiter=',')\n",
    "data[:7]"
   ]
  },
  {
   "cell_type": "code",
   "execution_count": 153,
   "metadata": {},
   "outputs": [
    {
     "data": {
      "image/png": "[encoded data removed]",
      "text/plain": [
       "<Figure size 432x288 with 1 Axes>"
      ]
     },
     "metadata": {
      "needs_background": "light"
     },
     "output_type": "display_data"
    }
   ],
   "source": [
    "plotData(data)"
   ]
  },
  {
   "cell_type": "code",
   "execution_count": 154,
   "metadata": {},
   "outputs": [],
   "source": [
    "#costFunction with regularization exercise\n",
    "def costFunctionReg(theta, x, y, lam):\n",
    "    m = len(y)\n",
    "    J = 0.\n",
    "    n = len(theta)\n",
    "    grad = np.zeros(len(theta))\n",
    "    reg_par = 0.\n",
    "    for j in range(1, n):\n",
    "        reg_par += theta[j] ** 2\n",
    "    reg_par *= (lam / (2 * m))\n",
    "    \n",
    "    Sum = 0.\n",
    "    for i in range(m):\n",
    "        Sum += (-y[i] * np.log(sigmoid(np.dot(theta.T,x[i]))) - \\\n",
    "              (1. - y[i]) * np.log(1 - sigmoid(np.dot(theta.T,x[i]))))\n",
    "    Sum /= m\n",
    "    J = Sum + reg_par\n",
    "    \n",
    "    for j in range(1, len(theta)):\n",
    "        Sum = 0.\n",
    "        for i in range(m):\n",
    "            Sum += (sigmoid(np.dot(theta.T, x[i])) - y[i]) * x[i][j]\n",
    "        Sum /= m\n",
    "        Sum += theta[j] * lam / m\n",
    "        grad[j] = Sum\n",
    "    Sum = 0.\n",
    "    for i in range(m):\n",
    "        Sum += (sigmoid(np.dot(theta.T, x[i])) - y[i]) * x[i][0]\n",
    "    Sum /= m\n",
    "    grad[0] = Sum\n",
    "    \n",
    "    return (J, grad)"
   ]
  },
  {
   "cell_type": "code",
   "execution_count": 155,
   "metadata": {},
   "outputs": [
    {
     "data": {
      "text/plain": [
       "(0.6931471805599461, array([1.87880932e-02, 7.77711864e-05]))"
      ]
     },
     "execution_count": 155,
     "metadata": {},
     "output_type": "execute_result"
    }
   ],
   "source": [
    "#Works right\n",
    "costFunctionReg(np.array([0, 0]), data[:, :2], data[:, 2], 0)"
   ]
  },
  {
   "cell_type": "code",
   "execution_count": null,
   "metadata": {},
   "outputs": [],
   "source": []
  }
 ],
 "metadata": {
  "kernelspec": {
   "display_name": "Python 3",
   "language": "python",
   "name": "python3"
  },
  "language_info": {
   "codemirror_mode": {
    "name": "ipython",
    "version": 3
   },
   "file_extension": ".py",
   "mimetype": "text/x-python",
   "name": "python",
   "nbconvert_exporter": "python",
   "pygments_lexer": "ipython3",
   "version": "3.6.10"
  }
 },
 "nbformat": 4,
 "nbformat_minor": 4
}
