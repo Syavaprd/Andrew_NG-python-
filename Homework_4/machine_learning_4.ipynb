{
 "cells": [
  {
   "cell_type": "code",
   "execution_count": 5,
   "metadata": {},
   "outputs": [],
   "source": [
    "import numpy as np\n",
    "import random"
   ]
  },
  {
   "cell_type": "code",
   "execution_count": 2,
   "metadata": {},
   "outputs": [],
   "source": [
    "def sigmoid(x):\n",
    "    return 1. / (1 + np.exp(-x))"
   ]
  },
  {
   "cell_type": "code",
   "execution_count": 4,
   "metadata": {},
   "outputs": [],
   "source": [
    "# sigmoidGradient exercise\n",
    "def sigmoidGradient(x):\n",
    "    return sigmoid(x) * (1 - sigmoid(x))"
   ]
  },
  {
   "cell_type": "code",
   "execution_count": 6,
   "metadata": {},
   "outputs": [],
   "source": [
    "# Randomly initialize weight in [-eps; eps]\n",
    "def random(l_in, l_out, epsilon):\n",
    "    return np.random.rand(l_out, 1 + l_in) * 2 * epsilon - epsilon"
   ]
  },
  {
   "cell_type": "code",
   "execution_count": null,
   "metadata": {},
   "outputs": [],
   "source": [
    "# nnCostFunction reguralized exercise\n",
    "def nnCostFunction(nn_params, input_layer_size, hidden_layer_size,\n",
    "                   num_labels, X, y, lambda_=0.0):\n",
    "    theta_1 = np.reshape(nn_params[:hidden_layer_size * (input_layer_size + 1)],\n",
    "                        (hidden_layer_size, (input_layer_size + 1)))\n",
    "\n",
    "    theta_2 = np.reshape(nn_params[(hidden_layer_size * (input_layer_size + 1)):],\n",
    "                        (num_labels, (hidden_layer_size + 1)))\n",
    "    \n",
    "    m = len(y)\n",
    "    \n",
    "    J = 0.\n",
    "    theta_1_grad = np.zeros(theta_1.shape)\n",
    "    theta_2_grad = np.zeros(theta_2.shape)\n",
    "    \n",
    "    a1 = np.concatenate([np.ones((m, 1)), X], axis=1)\n",
    "    \n",
    "    a2 = sigmoid(a1.dot(theta_1.T))\n",
    "    a2 = np.concatenate([np.ones((a2.shape[0], 1)), a2], axis=1)\n",
    "    \n",
    "    a3 = sigmoid(a2.dot(theta_2.T))\n",
    "    \n",
    "    y_matrix = y.reshape(-1)\n",
    "    y_matrix = np.eye(num_labels)[y_matrix]\n",
    "    \n",
    "    temp1 = theta_1\n",
    "    temp2 = theta_2\n",
    "    \n",
    "    reg_term = (lambda_ / (2 * m)) * (np.sum(np.square(temp1[:, 1:])) + np.sum(np.square(temp2[:, 1:])))\n",
    "    \n",
    "    J = (-1 / m) * np.sum((np.log(a3) * y_matrix) + np.log(1 - a3) * (1 - y_matrix)) + reg_term\n",
    "    \n",
    "    delta_3 = a3 - y_matrix\n",
    "    delta_2 = delta_3.dot(theta_2)[:, 1:] * sigmoidGradient(a1.dot(theta_1.T))\n",
    "\n",
    "    Delta1 = delta_2.T.dot(a1)\n",
    "    Delta2 = delta_3.T.dot(a2)\n",
    "    \n",
    "    theta_1_grad = (1 / m) * Delta1\n",
    "    theta_1_grad[:, 1:] = theta_1_grad[:, 1:] + (lambda_ / m) * theta_1[:, 1:]\n",
    "    \n",
    "    theta_2_grad = (1 / m) * Delta2\n",
    "    theta_2_grad[:, 1:] = theta_2_grad[:, 1:] + (lambda_ / m) * theta_2[:, 1:]\n",
    "\n",
    "    grad = np.concatenate([theta_1_grad.ravel(), theta_2_grad.ravel()])\n",
    "    \n",
    "    return (J, grad)"
   ]
  }
 ],
 "metadata": {
  "kernelspec": {
   "display_name": "Python 3",
   "language": "python",
   "name": "python3"
  },
  "language_info": {
   "codemirror_mode": {
    "name": "ipython",
    "version": 3
   },
   "file_extension": ".py",
   "mimetype": "text/x-python",
   "name": "python",
   "nbconvert_exporter": "python",
   "pygments_lexer": "ipython3",
   "version": "3.6.10"
  }
 },
 "nbformat": 4,
 "nbformat_minor": 4
}
